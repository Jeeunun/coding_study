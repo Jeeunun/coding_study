{
 "cells": [
  {
   "attachments": {},
   "cell_type": "markdown",
   "metadata": {},
   "source": [
    "### 7.럭키스트레이트"
   ]
  },
  {
   "cell_type": "code",
   "execution_count": 15,
   "metadata": {},
   "outputs": [
    {
     "name": "stdout",
     "output_type": "stream",
     "text": [
      "READY\n"
     ]
    }
   ],
   "source": [
    "# (1) 예제\n",
    "# 1. N을 리스트 형식으로 만들기\n",
    "N = 123402\n",
    "Llist = list(map(int,str(N)))\n",
    "Llist\n",
    "\n",
    "# 2. 첫번째 부분과 두번째 부분의 합 구하기\n",
    "first = sum(map(int,Llist[:3]))\n",
    "first\n",
    "\n",
    "second = sum(map(int, Llist[3:]))\n",
    "second\n",
    "\n",
    "if first == second:\n",
    "    print(\"LUCKY\")\n",
    "else:\n",
    "    print(\"READY\")\n",
    "#-----------------------------------------------\n",
    "\n",
    "# (2) 함수구현\n",
    "def solution(N):\n",
    "    Llist = list(map(int,str(N)))\n",
    "    first = sum(map(int,Llist[:(len(Llist)//2)]))\n",
    "    second = sum(map(int,Llist[(len(Llist)//2):]))\n",
    "    if first == second:\n",
    "        return (\"LUCKY\")\n",
    "    else:\n",
    "        return (\"READY\")\n",
    "\n",
    "print(solution(7755))"
   ]
  },
  {
   "attachments": {},
   "cell_type": "markdown",
   "metadata": {},
   "source": [
    "### 8. 문자열 재정렬 "
   ]
  },
  {
   "cell_type": "code",
   "execution_count": 52,
   "metadata": {},
   "outputs": [
    {
     "name": "stdout",
     "output_type": "stream",
     "text": [
      "['K', 'K', 'A', 'C', 'B']\n",
      "['1', '5', '7']\n",
      "13\n",
      "ABCKK13\n"
     ]
    },
    {
     "ename": "TypeError",
     "evalue": "'str' object is not callable",
     "output_type": "error",
     "traceback": [
      "\u001b[1;31m---------------------------------------------------------------------------\u001b[0m",
      "\u001b[1;31mTypeError\u001b[0m                                 Traceback (most recent call last)",
      "Cell \u001b[1;32mIn[52], line 52\u001b[0m\n\u001b[0;32m     49\u001b[0m    string\u001b[39m.\u001b[39mappend(\u001b[39mstr\u001b[39m(\u001b[39msum\u001b[39m))\n\u001b[0;32m     50\u001b[0m    \u001b[39mreturn\u001b[39;00m (\u001b[39m\"\u001b[39m\u001b[39m\"\u001b[39m\u001b[39m.\u001b[39mjoin(string))\n\u001b[1;32m---> 52\u001b[0m \u001b[39minput\u001b[39m  \u001b[39m=\u001b[39m \u001b[39minput\u001b[39;49m(\u001b[39m\"\u001b[39;49m\u001b[39m문자를 입력하세요: \u001b[39;49m\u001b[39m\"\u001b[39;49m)\n\u001b[0;32m     53\u001b[0m \u001b[39mprint\u001b[39m(solution(\u001b[39minput\u001b[39m))\n",
      "\u001b[1;31mTypeError\u001b[0m: 'str' object is not callable"
     ]
    }
   ],
   "source": [
    "# (1) 예제\n",
    "# - 1. 문자와 숫자 나누기\n",
    "  # print(ord('A')) #65\n",
    "  # print(ord('Z')) #90\n",
    "input = 'K1KA5CB7'\n",
    "ilist = list(input)\n",
    "\n",
    "string = []\n",
    "number = []\n",
    "for i in ilist:\n",
    "    if ord('A')<= ord(i) <= ord('Z'):\n",
    "      string.append(i)\n",
    "    else:\n",
    "       number.append(i)\n",
    "\n",
    "print(string) #['K', 'K', 'A', 'C', 'B']\n",
    "print(number) #['1', '5', '7']\n",
    "\n",
    "# - 2. 알파벳 문자 오름차순 정렬\n",
    "string.sort()\n",
    "string\n",
    "\n",
    "# - 3. 숫자 더한 값\n",
    "sum = 0\n",
    "for n in number:\n",
    "  sum+=int(n)\n",
    "print(str(sum))\n",
    "\n",
    "# - 4. string+number 합치기\n",
    "string.append(str(sum))\n",
    "print(\"\".join(string))\n",
    "\n",
    "# ---------------------\n",
    "# (2) 함수\n",
    "\n",
    "# def solution(input):\n",
    "#    ilist = list(input)\n",
    "#    string = []\n",
    "#    number = []\n",
    "#    for i in ilist:\n",
    "#     if ord('A')<= ord(i) <= ord('Z'):\n",
    "#       string.append(i)\n",
    "#     else:\n",
    "#        number.append(i)\n",
    "#    string.sort()\n",
    "#    sum = 0\n",
    "#    for n in number:\n",
    "#     sum+=int(n)\n",
    "#    string.append(str(sum))\n",
    "#    return (\"\".join(string))\n",
    "\n",
    "# input  = input(\"문자를 입력하세요: \")\n",
    "# print(solution(input))"
   ]
  },
  {
   "attachments": {},
   "cell_type": "markdown",
   "metadata": {},
   "source": [
    "### 9. 문자열 압축"
   ]
  },
  {
   "cell_type": "code",
   "execution_count": null,
   "metadata": {},
   "outputs": [],
   "source": [
    "# 1. 잘라주는 함수\n",
    "def cut(S : str,m :int):\n",
    "    result = []\n",
    "    while \n",
    "        r in range(len(S))\n",
    "        S[0:m] S[m:2m]\n",
    "        "
   ]
  },
  {
   "attachments": {},
   "cell_type": "markdown",
   "metadata": {},
   "source": [
    "### 10."
   ]
  },
  {
   "attachments": {},
   "cell_type": "markdown",
   "metadata": {},
   "source": [
    "10보다 작은 짝수 기준으로 자기보다 작은 숫자를 i,[j]로 print"
   ]
  },
  {
   "cell_type": "code",
   "execution_count": 5,
   "metadata": {},
   "outputs": [
    {
     "name": "stdout",
     "output_type": "stream",
     "text": [
      "0\n",
      "2\n",
      "4\n",
      "6\n",
      "8\n"
     ]
    }
   ],
   "source": [
    "i=0\n",
    "while True:    \n",
    "    print(i)\n",
    "    i+=2\n",
    "    if i==10:\n",
    "        break\n",
    "    "
   ]
  },
  {
   "cell_type": "code",
   "execution_count": null,
   "metadata": {},
   "outputs": [],
   "source": []
  }
 ],
 "metadata": {
  "kernelspec": {
   "display_name": "Python 3",
   "language": "python",
   "name": "python3"
  },
  "language_info": {
   "codemirror_mode": {
    "name": "ipython",
    "version": 3
   },
   "file_extension": ".py",
   "mimetype": "text/x-python",
   "name": "python",
   "nbconvert_exporter": "python",
   "pygments_lexer": "ipython3",
   "version": "3.11.4"
  },
  "orig_nbformat": 4
 },
 "nbformat": 4,
 "nbformat_minor": 2
}
